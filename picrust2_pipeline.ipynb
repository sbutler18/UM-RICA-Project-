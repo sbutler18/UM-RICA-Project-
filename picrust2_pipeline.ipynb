{
 "cells": [
  {
   "cell_type": "code",
   "execution_count": null,
   "id": "c612bfe0",
   "metadata": {},
   "outputs": [],
   "source": [
    "#using this tutorial \n",
    "#https://github.com/picrust/picrust2/wiki/PICRUSt2-Tutorial-(v2.3.0-beta)"
   ]
  },
  {
   "cell_type": "code",
   "execution_count": 1,
   "id": "f0d25eb0",
   "metadata": {},
   "outputs": [
    {
     "name": "stdout",
     "output_type": "stream",
     "text": [
      "META.tsv                 seqs.fasta\r\n",
      "picrust2_pipeline.ipynb  table.biom\r\n"
     ]
    }
   ],
   "source": [
    "ls"
   ]
  },
  {
   "cell_type": "code",
   "execution_count": 3,
   "id": "c87fccd7",
   "metadata": {},
   "outputs": [],
   "source": [
    "mkdir picrust2_out_pipeline"
   ]
  },
  {
   "cell_type": "code",
   "execution_count": 5,
   "id": "433f7c9c",
   "metadata": {
    "scrolled": true
   },
   "outputs": [
    {
     "name": "stdout",
     "output_type": "stream",
     "text": [
      "/Users/sterling.butler/Desktop/RICA_picrust2_files/picrust2_out_pipeline\n"
     ]
    }
   ],
   "source": [
    "cd picrust2_out_pipeline"
   ]
  },
  {
   "cell_type": "code",
   "execution_count": null,
   "id": "00db25e6",
   "metadata": {},
   "outputs": [],
   "source": [
    "place_seqs.py -s ../seqs.fasta -o out.tre -p 1 \\\n",
    "              --intermediate intermediate/place_seqs\n",
    "\n",
    "\n",
    "#####output from above \n",
    "\n",
    "#Warning - 68 input sequences aligned poorly to reference sequences (--min_align option specified a minimum proportion of 0.8 aligning to reference sequences). These input sequences will not be placed and will be excluded from downstream steps.\n",
    "\n",
    "#This is the set of poorly aligned input sequences to be excluded: 55e16ac0fcc36940ca609f25d53c24d8, 5fd18c4199e15ac2199a80cb718ff698, 516b3479248b66d763a160940e30339d, d94677316487174e0d24be68583d9765, 6856871fd216c5cbb6ace05e11a7055c, b366e3ad3e6b53c4d197c038f0d11ce3, 871433c6d2a64571abd61b46bdd21963, 539f13c6706cb744d08207de8adf9e59, c6d2e3fdf6e5260dae70fd29584e4a9c, 849dec263a145c0ed6996b1e0fe203d1, 203a6aa90a74d9141d65b0c03275ede9, 023d178df97bf525c14782ab675aa423, 48b4fcec90ab8e32b60e2773d37f1e64, 80041d1759d924b4a28d5223c7334a3b, e6e05a68276d5442ff5795a0c3d49d17, 121539898467340ea3682c5f0ef1d788, a8d8c94ce78ef06f502334b08f098883, 989735442862f58fbdc85bc29933bf4e, 950b2cb73a9f0b43d2db277d085a11a3, 1c6d86a14f44099952032e99de8da006, 6d20452ffa1457f30bc08219ef8e4e26, 7e0d8e650df695c7b191d80f067aac8c, 7023d74203d6e17b8d992932ab39d889, 27077ba3fdd0de61004565634132ec72, 85535d9510c5b947221780d956b709ca, d43f989043ef4c4ed05a40a22f06870a, 6a93ddc7feaba902174571a111d55278, 6070a737aa05d6826bc8c0e81a0e02cb, d98f49fa1c0cdf58e4dcee26df84c63a, 87baf44f00156b35a54280c5b74fa1be, 0305995d21b64869fd4f7b83fb9f8b7d, 098e8cc957b4c85ef6014242c3ce3cf7, 154b665541b866f81d852351ccda37b7, 673593a7d4b13a3b87012e2ebffd7274, 6bc0ceeb1dd2d27f510ac1bcffc098f7, 38f3b65f9a5dd348976206b6e3cc36c8, b6ef2e68ef2c91f526b87af789089ffd, f8e5816d0f801fccce9ce4ba56fffa5e, 81e66292fa76acc0e4f4f38b8e04c674, e984189d53de1d701bab82e72000398f, 16e126c31753ca2274541e2bfb4f8a4b, 1fca9e727afdc072619e9ed0ac21083a, ceb419c8321ea985dec4adf4466e23d6, ffd27cb09c7fd1436e462d132218c4d5, 2671d5e0ef6aed3fae4d825d8b83d3ef, ce714d75b1779eaf6da8562be5908c4e, 63c5fc8cdac9583922d330cc4bd29c41, 2fbed9561fca6c811bcf4ed64582b2f1, 06b3c9cbc5b8815aaa62882ab43cafdf, 0aa52acb0de1d07bf3b825f3c6115642, 95625def88e6f64b389b6ce178aa200e, e404eea002924796cc8f69b48628b887, 6642642744fde04d968f08ce052d3594, d79dde3a27bf905ee84f48a80f10cfcb, 17e9473cf028484669dc9680eb8c7176, 72e6fa932fdf74d85bce0cb14dfe1592, f39c80d93f8b4d116bbbc609219b8782, 15f17f90435983e4bb9a79ff99c446d3, 3a530b22a9d39bd19a7eb87b4e44746c, af79ff546c0a7e721edc165ff7af2a78, a34c4ef691ad16984ad9932a86f86ef4, f718eaa7a656d5a1ca9e22d02f4b3829, 114a354fa08d246feb0b107a8aeda111, d02020f110d7d0f75eb32a5db14e6f12, 213469e6352275e83693ecb4c8dfcf8d, f8408608755531005aeecbfae9171c0e, 418cca4c7b0259e074c954b04657f886, b4337f16fb2162c41cafd5422d30d6ee\n"
   ]
  },
  {
   "cell_type": "code",
   "execution_count": null,
   "id": "75db5e38",
   "metadata": {},
   "outputs": [],
   "source": [
    "hsp.py -i 16S -t out.tre -o marker_predicted_and_nsti.tsv.gz -p 1 -n"
   ]
  },
  {
   "cell_type": "code",
   "execution_count": null,
   "id": "50bb1ab8",
   "metadata": {},
   "outputs": [],
   "source": [
    "hsp.py -i EC -t out.tre -o EC_predicted.tsv.gz -p 1"
   ]
  },
  {
   "cell_type": "code",
   "execution_count": null,
   "id": "62e1d6a4",
   "metadata": {},
   "outputs": [],
   "source": [
    "#Generate metagenome predictions\n",
    "\n",
    "metagenome_pipeline.py -i ../table.biom -m marker_predicted_and_nsti.tsv.gz -f EC_predicted.tsv.gz \\\n",
    "                       -o EC_metagenome_out --strat_out\n",
    "\n",
    "#####output from above \n",
    "\n",
    "#38 of 1602 ASVs were above the max NSTI cut-off of 2.0 and were removed."
   ]
  },
  {
   "cell_type": "code",
   "execution_count": null,
   "id": "e62e12a6",
   "metadata": {},
   "outputs": [],
   "source": [
    "#To generate this file in legacy format you can run\n",
    "convert_table.py EC_metagenome_out/pred_metagenome_contrib.tsv.gz \\\n",
    "                 -c contrib_to_legacy \\\n",
    "                 -o EC_metagenome_out/pred_metagenome_contrib.legacy.tsv.gz"
   ]
  },
  {
   "cell_type": "code",
   "execution_count": null,
   "id": "69e434b3",
   "metadata": {},
   "outputs": [],
   "source": [
    "#pathway level inference \n",
    "pathway_pipeline.py -i EC_metagenome_out/pred_metagenome_contrib.tsv.gz \\\n",
    "                    -o pathways_out -p 1"
   ]
  },
  {
   "cell_type": "code",
   "execution_count": null,
   "id": "3313de6a",
   "metadata": {},
   "outputs": [],
   "source": [
    "#Add functional descriptions \n",
    "\n",
    "add_descriptions.py -i EC_metagenome_out/pred_metagenome_unstrat.tsv.gz -m EC \\\n",
    "                    -o EC_metagenome_out/pred_metagenome_unstrat_descrip.tsv.gz\n",
    "\n",
    "\n",
    "\n",
    "add_descriptions.py -i pathways_out/path_abun_unstrat.tsv.gz -m METACYC \\\n",
    "                    -o pathways_out/path_abun_unstrat_descrip.tsv.gz"
   ]
  }
 ],
 "metadata": {
  "kernelspec": {
   "display_name": "picrust2",
   "language": "python",
   "name": "picrust2"
  },
  "language_info": {
   "codemirror_mode": {
    "name": "ipython",
    "version": 3
   },
   "file_extension": ".py",
   "mimetype": "text/x-python",
   "name": "python",
   "nbconvert_exporter": "python",
   "pygments_lexer": "ipython3",
   "version": "3.6.15"
  }
 },
 "nbformat": 4,
 "nbformat_minor": 5
}
